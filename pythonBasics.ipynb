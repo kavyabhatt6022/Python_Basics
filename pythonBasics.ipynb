{
  "nbformat": 4,
  "nbformat_minor": 0,
  "metadata": {
    "colab": {
      "provenance": []
    },
    "kernelspec": {
      "name": "python3",
      "display_name": "Python 3"
    },
    "language_info": {
      "name": "python"
    }
  },
  "cells": [
    {
      "cell_type": "markdown",
      "source": [
        "# PYTHON BASIC QUESTIONS"
      ],
      "metadata": {
        "id": "_5P5L95HH0QS"
      }
    },
    {
      "cell_type": "markdown",
      "source": [
        "1. What is Python and why it is popular?\n",
        "\n",
        " Python is a high-level, general-purpose programming langauge. Its design philosophy emphasizes code readability with the use of the significant identation.\n",
        " Python is popular for several reasons :-\n",
        "* **Readability and Simplicity:** Python's syntax is clear and easy to learn, making it accessible to beginners.  Its emphasis on readability reduces the time and effort needed to write and maintain code.\n",
        "\n",
        "* **Versatility:**  Python can be used for a wide range of tasks, including web development, data science, machine learning, scripting, automation, and more. This versatility makes it a valuable skill for many different roles.\n",
        "\n",
        "* **Extensive Libraries and Frameworks:**  A vast ecosystem of libraries and frameworks simplifies complex tasks. For example, NumPy, Pandas, and Scikit-learn are crucial for data science, while Django and Flask are popular web development frameworks. These tools provide pre-built functions and modules, accelerating development.\n",
        "\n",
        "* **Large and Active Community:**  A large community of users and developers provides ample resources, support, and readily available solutions to problems.  This means you can easily find help online, access tutorials, and contribute to open-source projects.\n",
        "\n",
        "* **Cross-Platform Compatibility:** Python runs on various operating systems, including Windows, macOS, and Linux, making it highly portable.\n",
        "\n",
        "* **Open-Source and Free:** Python is open-source, which means it is free to use, distribute, and modify.  This makes it an attractive option for both individuals and businesses.\n",
        "\n",
        "* **Dynamic Typing:**  Python uses dynamic typing, meaning you don't need to explicitly declare variable types.  This can lead to faster development, though it can also introduce runtime errors if not handled carefully.\n",
        "\n",
        "\n",
        "These factors contribute to Python's widespread adoption and its status as one of the most popular programming languages globally."
      ],
      "metadata": {
        "id": "Uo4Liwl4IF87"
      }
    },
    {
      "cell_type": "markdown",
      "source": [
        "2. What is an interpreter in Python?\n",
        "- An interpreter in Python is a program that reads and executes Python code line by line.  Unlike a compiler, which translates the entire source code into machine code before execution, an interpreter executes the code directly, translating and executing each line one at a time.  This allows for interactive programming and immediate feedback, but can be slower than compiled languages for large programs.  The Python interpreter (often called `CPython`) is the standard implementation of the Python language."
      ],
      "metadata": {
        "id": "GorzzFPlJQTo"
      }
    },
    {
      "cell_type": "markdown",
      "source": [
        "3. What are pre-defined keywords in Python?\n",
        "- Pre-defined keywords in Python are reserved words that have special meanings and purposes within the language.\n",
        "- They cannot be used as variable names, function names, or any other identifiers.\n",
        "- Examples of keywords:\n",
        "\n",
        "  and, as, assert, break, class, continue, def, del, elif, else, except, False, finally, for, from, global, if, import, in, is, lambda, None, nonlocal, not, or, pass, raise, return, True, try, while, with, yield\n",
        "- These keywords form the foundation of Python's syntax and control flow mechanisms.  They are essential for defining program structure, controlling execution, handling exceptions, and more."
      ],
      "metadata": {
        "id": "sj13A6F2JrV5"
      }
    },
    {
      "cell_type": "markdown",
      "source": [
        "4. Can keywords be used as variables names ?\n",
        "- No, keywords cannot be used as variable names in Python.  They are reserved words with specific meanings in the language, and attempting to use them as identifiers will result in a syntax error."
      ],
      "metadata": {
        "id": "yYSZXgVz-_uW"
      }
    },
    {
      "cell_type": "markdown",
      "source": [
        "5. What is mutability in Python?\n",
        "-  Mutability in Python refers to an object's ability to change its state or contents after it has been created.  In other words, a mutable object can be modified in place, while an immutable object cannot.  Its value remains constant after creation.\n",
        "\n",
        " **Mutable Objects:**\n",
        "\n",
        " Examples include lists, dictionaries, and sets.  When you modify a mutable object, you are directly changing the object itself, not creating a new one."
      ],
      "metadata": {
        "id": "BzXbQ5B_-r2C"
      }
    },
    {
      "cell_type": "markdown",
      "source": [
        "6. Why are lists mutable, but tuples are immutable?\n",
        "- Lists are mutable because they are designed to be dynamic and efficient for operations that involve adding, removing, or changing elements.  \n",
        "- Internally, a list is implemented as a dynamic array.  This means that it can resize itself as needed to accommodate changes in the number of elements.\n",
        "- When you modify a list, Python doesn't create a completely new list; it simply modifies the underlying data structure in place.  \n",
        "- This makes list operations faster, especially when dealing with large lists.\n",
        "\n",
        "- In contrast, tuples are immutable for several reasons:\n",
        "\n",
        " * Efficiency: Immutable objects can be more memory-efficient because they don't need to allocate space for potential future modifications.  Their size is fixed at creation time.\n",
        " * Hashing: Immutability makes tuples hashable. This allows them to be used as keys in dictionaries or elements in sets. Mutable objects cannot be hashed because their values might change, which would break the integrity of the hash table used by dictionaries and sets.\n",
        " * Thread Safety: In multi-threaded environments, immutable objects are inherently thread-safe. Since they cannot be modified, there's no risk of data corruption from multiple threads attempting to change them concurrently.\n",
        " * Safety: Immutability provides a form of data integrity.  Once a tuple is created, you can be certain its contents will remain unchanged, reducing the chance of accidental modification errors in your code."
      ],
      "metadata": {
        "id": "041yUkb0_7WV"
      }
    },
    {
      "cell_type": "markdown",
      "source": [
        "7. What is the difference between \"==\" and \"is\" operator in Python?\n",
        "- The == operator compares the values of two objects.\n",
        "- The is operator compares the memory addresses of two objects.\n",
        "\n",
        " a = [1, 2, 3]\n",
        "\n",
        " b = [1, 2, 3]\n",
        "\n",
        " print(a == b)   // Output: True (because the values are equal)\n",
        "\n",
        " print(a is b)  // Output: False (because they are different objects in memory)\n",
        "\n",
        " c = a\n",
        "\n",
        " print(a == c)  // Output: True (the values are the same)\n",
        "\n",
        " print(a is c)  // Output: True (they refer to the same object in memory)\n",
        "\n",
        "\n",
        "* For small integers, Python often caches them, so is might return True.\n",
        "\n",
        " x = 256\n",
        "\n",
        " y = 256\n",
        "\n",
        " print(x is y)  // Output: True (because the small integer 256 is cached in memory)\n",
        "\n",
        " z = 257\n",
        "\n",
        " w = 257\n",
        "\n",
        " print(z is w) // Output: False (because the larger integer 257 may not be cached)\n",
        "\n"
      ],
      "metadata": {
        "id": "2t_DO3i6AypR"
      }
    },
    {
      "cell_type": "markdown",
      "source": [
        "8. What are logical operators in Python?\n",
        "- Logical operators in Python are used to combine or modify Boolean expressions (expressions that evaluate to either True or False).  They allow you to create more complex conditions in your code.  The main logical operators in Python are:\n",
        "\n",
        "* **`and`**:  Returns `True` if both operands are `True`; otherwise, it returns `False`.\n",
        "* **`or`**: Returns `True` if at least one of the operands is `True`; otherwise, it returns `False`.\n",
        "* **`not`**:  Inverts the truth value of its operand.  If the operand is `True`, `not` returns `False`; if the operand is `False`, `not` returns `True`."
      ],
      "metadata": {
        "id": "xi5-E-eYNtil"
      }
    },
    {
      "cell_type": "markdown",
      "source": [
        "9. What is type casting in Python?\n",
        "- Type casting in Python refers to the conversion of one data type into another.  For example, you might convert an integer to a floating-point number, a string to an integer, or vice-versa.  Python provides built-in functions like `int()`, `float()`, `str()`, etc., to perform type casting.  This is useful when you need to perform operations that require specific data types or when you're working with data from different sources that might have varying types."
      ],
      "metadata": {
        "id": "fFuA7HeROgIZ"
      }
    },
    {
      "cell_type": "markdown",
      "source": [
        "10. What is difference between implicit and explicit type casting ?\n",
        "- Implicit type casting (also known as automatic type conversion) is performed by the Python interpreter automatically without any explicit instruction from the programmer.  The interpreter implicitly converts one data type to another compatible type based on the context of the operation being performed.  For example, if you add an integer and a float, the integer will be implicitly converted to a float before the addition occurs.\n",
        "\n",
        "- Explicit type casting (also known as manual type conversion) is performed by the programmer using built-in functions like `int()`, `float()`, `str()`, etc.  The programmer explicitly tells the interpreter to convert a value from one data type to another. This gives the programmer more control over the type conversion process and ensures that the desired data type is obtained."
      ],
      "metadata": {
        "id": "OJmuH0M4O1Oj"
      }
    },
    {
      "cell_type": "markdown",
      "source": [
        "11. What is the purpose of conditional statements in Python ?\n",
        "- Conditional statements in Python (if, elif, else) control the flow of execution based on whether certain conditions are true or false.  They allow you to create programs that make decisions and execute different blocks of code depending on the state of the program or input data."
      ],
      "metadata": {
        "id": "YxMfBUrzPfLy"
      }
    },
    {
      "cell_type": "markdown",
      "source": [
        "12. How does elif statement work ?\n",
        "- The `elif` statement (short for \"else if\") is used in Python to create a chain of conditional checks.  It allows you to check multiple conditions sequentially, and execute the block of code associated with the first condition that evaluates to `True`.  If none of the `elif` conditions are true, and an `else` block is provided, the code within the `else` block will be executed.\n",
        "\n",
        " Here's how it works:\n",
        "\n",
        " 1. **Initial `if` statement:**  The code begins with an `if` statement that checks a condition.  If the condition is `True`, the code block associated with that `if` statement is executed, and the rest of the `elif` and `else` blocks are skipped.\n",
        "\n",
        " 2. **`elif` chain:** If the `if` statement's condition is `False`, the code proceeds to the first `elif` statement.  It checks the condition associated with this `elif`. If this condition is `True`, its corresponding code block is executed, and subsequent `elif` and `else` blocks are skipped.\n",
        "\n",
        " 3. **Multiple `elif` checks:**  You can have multiple `elif` statements chained together.  Python checks each `elif` condition sequentially until it finds one that is `True`.  Once a `True` condition is found, its associated code is executed, and the rest of the chain is bypassed.\n",
        "\n",
        " 4. **`else` block (optional):**  If none of the `if` or `elif` conditions evaluate to `True`, and an `else` block is present, the code inside the `else` block is executed.  The `else` block acts as a default case.\n",
        "\n",
        " In essence, the `elif` statement provides a way to implement multiple mutually exclusive conditions, ensuring that only one code block is executed based on the first `True` condition encountered in the chain.\n"
      ],
      "metadata": {
        "id": "fsaqK70KP6qX"
      }
    },
    {
      "cell_type": "markdown",
      "source": [
        "13. What is the difference between for and while loops ?\n",
        "- The `for` and `while` loops are both used for iteration in Python, but they differ in how they control the flow of execution:\n",
        "\n",
        " **`for` loop:**\n",
        "\n",
        "* **Iteration over a sequence:** `for` loops are primarily designed to iterate over a sequence (like a list, tuple, string, or range) a predetermined number of times.  You know in advance how many times the loop will run.\n",
        "* **Counter variable:**  A `for` loop implicitly manages a counter variable (or iterator) that steps through each item in the sequence. You don't need to explicitly increment or check the counter.\n",
        "* **Use cases:**  `for` loops are ideal when you need to process each item in a collection or perform an action a specific number of times.  They're commonly used with lists, strings, files, and ranges.\n",
        "\n",
        " **`while` loop:**\n",
        "\n",
        "* **Condition-based iteration:**  `while` loops continue to execute as long as a specified condition is true.  You may not know in advance how many times the loop will run.\n",
        "* **Explicit counter management:** With `while` loops, you must explicitly initialize, update, and check a counter or other loop control variables within the loop's body.  You're responsible for managing the loop's termination.\n",
        "* **Use cases:**  `while` loops are suitable when you need to repeat a block of code until a certain condition is met, and you don't have a predefined sequence to iterate over. They are used for scenarios like user input validation, simulations, or when you need more flexibility in loop control.\n",
        "\n",
        " In summary: Use `for` loops when you know the number of iterations or want to process elements in a sequence. Use `while` loops for condition-based repetition where the number of iterations is not predetermined."
      ],
      "metadata": {
        "id": "5fxStTW8QjVO"
      }
    },
    {
      "cell_type": "markdown",
      "source": [
        "14. Describe a scenario where a while loop is more suitable than a for loop.\n",
        "- A `while` loop is more suitable than a `for` loop when the number of iterations is not known beforehand and depends on a condition that may change during the loop's execution.  For example, imagine a program that continuously prompts a user for input until they enter a valid number.  You don't know how many invalid entries the user might make, so a `for` loop wouldn't be appropriate.  A `while` loop, on the other hand, can continue to prompt until the correct input is received.\n"
      ],
      "metadata": {
        "id": "kMm_kCEvQl_t"
      }
    },
    {
      "cell_type": "markdown",
      "source": [
        "# Practical Questions"
      ],
      "metadata": {
        "id": "zVb-ShpDRe-L"
      }
    },
    {
      "cell_type": "markdown",
      "source": [
        "1. Write a Python program to print \"Hello, World!\"."
      ],
      "metadata": {
        "id": "Xd_Dnrh8Ro1p"
      }
    },
    {
      "cell_type": "code",
      "source": [
        "print(\"Hello, World!\")"
      ],
      "metadata": {
        "colab": {
          "base_uri": "https://localhost:8080/"
        },
        "id": "EiYIuV2aR3D0",
        "outputId": "4a6be426-27ea-4365-b972-fd1d68b16855"
      },
      "execution_count": null,
      "outputs": [
        {
          "output_type": "stream",
          "name": "stdout",
          "text": [
            "Hello, World!\n"
          ]
        }
      ]
    },
    {
      "cell_type": "markdown",
      "source": [
        "2. Write a Python program that displays your name and age.\n"
      ],
      "metadata": {
        "id": "OhcVV3rCrkjP"
      }
    },
    {
      "cell_type": "code",
      "source": [
        "name = \"Kavya\"\n",
        "age = 21\n",
        "print(f\"My name is {name} and I am {age} years old.\")"
      ],
      "metadata": {
        "colab": {
          "base_uri": "https://localhost:8080/"
        },
        "id": "lXVl2Q4rr6qV",
        "outputId": "03ad5320-e813-443a-8823-d67cc36553e9"
      },
      "execution_count": null,
      "outputs": [
        {
          "output_type": "stream",
          "name": "stdout",
          "text": [
            "My name is Kavya and I am 21 years old.\n"
          ]
        }
      ]
    },
    {
      "cell_type": "markdown",
      "source": [
        "3. Write code to print all the pre-defined keywords in Python using the keyword library."
      ],
      "metadata": {
        "id": "k6MxR7zIstJ9"
      }
    },
    {
      "cell_type": "code",
      "source": [
        "import keyword\n",
        "\n",
        "keyword.kwlist"
      ],
      "metadata": {
        "colab": {
          "base_uri": "https://localhost:8080/"
        },
        "id": "NiB4bPzttVzu",
        "outputId": "ecc9b603-bbda-4dd2-e40c-3443b1ade125"
      },
      "execution_count": null,
      "outputs": [
        {
          "output_type": "execute_result",
          "data": {
            "text/plain": [
              "['False',\n",
              " 'None',\n",
              " 'True',\n",
              " 'and',\n",
              " 'as',\n",
              " 'assert',\n",
              " 'async',\n",
              " 'await',\n",
              " 'break',\n",
              " 'class',\n",
              " 'continue',\n",
              " 'def',\n",
              " 'del',\n",
              " 'elif',\n",
              " 'else',\n",
              " 'except',\n",
              " 'finally',\n",
              " 'for',\n",
              " 'from',\n",
              " 'global',\n",
              " 'if',\n",
              " 'import',\n",
              " 'in',\n",
              " 'is',\n",
              " 'lambda',\n",
              " 'nonlocal',\n",
              " 'not',\n",
              " 'or',\n",
              " 'pass',\n",
              " 'raise',\n",
              " 'return',\n",
              " 'try',\n",
              " 'while',\n",
              " 'with',\n",
              " 'yield']"
            ]
          },
          "metadata": {},
          "execution_count": 4
        }
      ]
    },
    {
      "cell_type": "markdown",
      "source": [
        "4. Write a program that checks if a given word is a Python keyword."
      ],
      "metadata": {
        "id": "he9Cnb9StsJO"
      }
    },
    {
      "cell_type": "code",
      "source": [
        "def is_keyword(word):\n",
        "  return keyword.iskeyword(word)\n",
        "\n",
        "print(is_keyword(\"for\"))\n",
        "print(is_keyword(\"hello\"))"
      ],
      "metadata": {
        "colab": {
          "base_uri": "https://localhost:8080/"
        },
        "id": "V9O4PO55t9yb",
        "outputId": "9f790258-25c8-444a-ffdc-4f7b089237d0"
      },
      "execution_count": null,
      "outputs": [
        {
          "output_type": "stream",
          "name": "stdout",
          "text": [
            "True\n",
            "False\n"
          ]
        }
      ]
    },
    {
      "cell_type": "markdown",
      "source": [
        "5. Create a list and tuple in Python, and demonstrate how attempting to change an element works a differently for each."
      ],
      "metadata": {
        "id": "3QF4XGFjvBOu"
      }
    },
    {
      "cell_type": "code",
      "source": [
        "# Create a list\n",
        "my_list = [1, 2, 3, 4, 5]\n",
        "\n",
        "# Attempt to change an element in the list\n",
        "my_list[0] = 10\n",
        "print(\"Modified list:\", my_list)\n",
        "\n",
        "# Create a tuple\n",
        "my_tuple = (1, 2, 3, 4, 5)\n",
        "\n",
        "# Attempt to change an element in the tuple (this will raise a TypeError)\n",
        "try:\n",
        "    my_tuple[0] = 10\n",
        "except TypeError as e:\n",
        "    print(\"Error modifying tuple:\", e)"
      ],
      "metadata": {
        "colab": {
          "base_uri": "https://localhost:8080/"
        },
        "id": "V7sZSSMtv_JB",
        "outputId": "78db5192-3b49-4fad-e272-af25a3d13b32"
      },
      "execution_count": null,
      "outputs": [
        {
          "output_type": "stream",
          "name": "stdout",
          "text": [
            "Modified list: [10, 2, 3, 4, 5]\n",
            "Error modifying tuple: 'tuple' object does not support item assignment\n"
          ]
        }
      ]
    },
    {
      "cell_type": "markdown",
      "source": [
        "6. Write a function to demonstrate the behaviour of mutable and immutable arguments."
      ],
      "metadata": {
        "id": "9xVvnvOywobP"
      }
    },
    {
      "cell_type": "code",
      "source": [
        "\n",
        "def demonstrate_mutability(arg_list, arg_tuple):\n",
        "    \"\"\"Demonstrates the behavior of mutable and immutable arguments.\"\"\"\n",
        "\n",
        "    arg_list.append(4)  # Modifying the list (mutable)\n",
        "    print(\"Inside function (list):\", arg_list)\n",
        "\n",
        "    # arg_tuple = arg_tuple + (4,)  # Attempt to modify tuple (immutable) - creates a new tuple\n",
        "    # print(\"Inside function (tuple):\", arg_tuple) # This print statement will show the new tuple that's created.\n",
        "    # The original tuple, passed as an argument, remains unchanged.\n",
        "\n",
        "    arg_tuple = list(arg_tuple)\n",
        "    arg_tuple.append(4)\n",
        "    arg_tuple = tuple(arg_tuple)\n",
        "    print(\"Inside function (tuple):\", arg_tuple)\n",
        "\n",
        "\n",
        "my_list = [1, 2, 3]\n",
        "my_tuple = (1, 2, 3)\n",
        "\n",
        "demonstrate_mutability(my_list, my_tuple)\n",
        "\n",
        "print(\"Outside function (list):\", my_list)\n",
        "print(\"Outside function (tuple):\", my_tuple)"
      ],
      "metadata": {
        "colab": {
          "base_uri": "https://localhost:8080/"
        },
        "id": "zIBvPzcXxKYd",
        "outputId": "115753e8-9881-427b-94c8-833a7cc745d9"
      },
      "execution_count": null,
      "outputs": [
        {
          "output_type": "stream",
          "name": "stdout",
          "text": [
            "Inside function (list): [1, 2, 3, 4]\n",
            "Inside function (tuple): (1, 2, 3, 4)\n",
            "Outside function (list): [1, 2, 3, 4]\n",
            "Outside function (tuple): (1, 2, 3)\n"
          ]
        }
      ]
    },
    {
      "cell_type": "markdown",
      "source": [
        "7. Write a program that perform basic arithmetic operations on two user-input numbers."
      ],
      "metadata": {
        "id": "CtYTO9BzLjh9"
      }
    },
    {
      "cell_type": "code",
      "source": [
        "def perform_arithmetic_operations():\n",
        "    try:\n",
        "        num1 = float(input(\"Enter the first number: \"))\n",
        "        num2 = float(input(\"Enter the second number: \"))\n",
        "\n",
        "        print(\"Addition:\", num1 + num2)\n",
        "        print(\"Subtraction:\", num1 - num2)\n",
        "        print(\"Multiplication:\", num1 * num2)\n",
        "\n",
        "        if num2 != 0:\n",
        "            print(\"Division:\", num1 / num2)\n",
        "        else:\n",
        "            print(\"Division by zero is not allowed.\")\n",
        "    except ValueError:\n",
        "        print(\"Invalid input. Please enter numbers only.\")\n",
        "\n",
        "perform_arithmetic_operations()\n"
      ],
      "metadata": {
        "colab": {
          "base_uri": "https://localhost:8080/"
        },
        "id": "qgksBFgPL1mo",
        "outputId": "0b1d3fb8-cccb-4bd6-9e81-0f24ed026317"
      },
      "execution_count": null,
      "outputs": [
        {
          "output_type": "stream",
          "name": "stdout",
          "text": [
            "Enter the first number: 10\n",
            "Enter the second number: 12\n",
            "Addition: 22.0\n",
            "Subtraction: -2.0\n",
            "Multiplication: 120.0\n",
            "Division: 0.8333333333333334\n"
          ]
        }
      ]
    },
    {
      "cell_type": "markdown",
      "source": [
        "8. Write a program to demonstrate the use of logical operators."
      ],
      "metadata": {
        "id": "ZkZRjd8cMWIn"
      }
    },
    {
      "cell_type": "code",
      "source": [
        "x = 5\n",
        "y = 10\n",
        "\n",
        "# and operator\n",
        "print(f\"x < y and x > 0: {x < y and x > 0}\")\n",
        "print(f\"x > y and x > 0: {x > y and x > 0}\")\n",
        "\n",
        "# or operator\n",
        "print(f\"x < y or x > 10: {x < y or x > 10}\")\n",
        "print(f\"x > y or x < 0: {x > y or x < 0}\")\n",
        "\n",
        "# not operator\n",
        "print(f\"not(x < y): {not(x < y)}\")\n",
        "print(f\"not(x > y): {not(x > y)}\")\n",
        "\n",
        "# Combining logical operators\n",
        "print(f\"(x < y and x > 0) or (x > y and x < 0): {(x < y and x > 0) or (x > y and x < 0)}\")"
      ],
      "metadata": {
        "colab": {
          "base_uri": "https://localhost:8080/"
        },
        "id": "drfS1NTWMlz5",
        "outputId": "84e99b63-d745-4127-e824-ebd455ce5d58"
      },
      "execution_count": null,
      "outputs": [
        {
          "output_type": "stream",
          "name": "stdout",
          "text": [
            "x < y and x > 0: True\n",
            "x > y and x > 0: False\n",
            "x < y or x > 10: True\n",
            "x > y or x < 0: False\n",
            "not(x < y): False\n",
            "not(x > y): True\n",
            "(x < y and x > 0) or (x > y and x < 0): True\n"
          ]
        }
      ]
    },
    {
      "cell_type": "markdown",
      "source": [
        "9. Write a Python program to convert user input string to integer, float and boolean types."
      ],
      "metadata": {
        "id": "G-KQg8EbNL18"
      }
    },
    {
      "cell_type": "code",
      "source": [
        "def convert_input():\n",
        "    user_input = input(\"Enter a value: \")\n",
        "\n",
        "    try:\n",
        "        integer_value = int(user_input)\n",
        "        print(\"Integer:\", integer_value)\n",
        "    except ValueError:\n",
        "        print(\"Invalid input for integer conversion.\")\n",
        "\n",
        "    try:\n",
        "        float_value = float(user_input)\n",
        "        print(\"Float:\", float_value)\n",
        "    except ValueError:\n",
        "        print(\"Invalid input for float conversion.\")\n",
        "\n",
        "    try:\n",
        "        # Attempt boolean conversion (handles \"True\", \"False\", 1, 0, etc.)\n",
        "        boolean_value = bool(eval(user_input))\n",
        "        print(\"Boolean:\", boolean_value)\n",
        "    except (ValueError, NameError, SyntaxError):\n",
        "        print(\"Invalid input for boolean conversion.\")\n",
        "\n",
        "convert_input()"
      ],
      "metadata": {
        "colab": {
          "base_uri": "https://localhost:8080/"
        },
        "id": "20yy4CY2Nawq",
        "outputId": "0e45e39e-0de9-48fa-93ba-ea08b40c9245"
      },
      "execution_count": null,
      "outputs": [
        {
          "output_type": "stream",
          "name": "stdout",
          "text": [
            "Enter a value: 10\n",
            "Integer: 10\n",
            "Float: 10.0\n",
            "Boolean: True\n"
          ]
        }
      ]
    },
    {
      "cell_type": "markdown",
      "source": [
        "10. Write a code to demonstrate type casting with the lists elements."
      ],
      "metadata": {
        "id": "OEtCUp9JNyqh"
      }
    },
    {
      "cell_type": "code",
      "source": [
        "def cast_list_elements(data, target_type):\n",
        "    \"\"\"\n",
        "    Attempts to cast each element of a list to the specified target type.\n",
        "\n",
        "    Args:\n",
        "        data: The input list.\n",
        "        target_type: The desired data type (e.g., int, float, str).\n",
        "\n",
        "    Returns:\n",
        "        A new list with elements cast to the target type, or the original list if casting fails for any element.\n",
        "    \"\"\"\n",
        "    casted_list = []\n",
        "    for item in data:\n",
        "        try:\n",
        "            casted_list.append(target_type(item))\n",
        "        except (ValueError, TypeError):\n",
        "            print(f\"Skipping element '{item}' - cannot be converted to {target_type.__name__}\")\n",
        "            return data # Return original list if any element fails to cast.\n",
        "\n",
        "    return casted_list\n",
        "\n",
        "# Example usage\n",
        "my_list = [1, 2.5, '3', 'hello', 4, True]\n",
        "\n",
        "# Cast to integers\n",
        "int_list = cast_list_elements(my_list, int)\n",
        "print(\"Casted to integers:\", int_list)\n",
        "\n",
        "# Cast to floats\n",
        "float_list = cast_list_elements(my_list, float)\n",
        "print(\"Casted to floats:\", float_list)\n",
        "\n",
        "#Cast to Strings\n",
        "string_list = cast_list_elements(my_list, str)\n",
        "print(\"Casted to strings:\", string_list)"
      ],
      "metadata": {
        "id": "PPQ_W_J7N-RE",
        "colab": {
          "base_uri": "https://localhost:8080/"
        },
        "outputId": "abf814a2-de18-4db7-8672-24507bb789dd"
      },
      "execution_count": 9,
      "outputs": [
        {
          "output_type": "stream",
          "name": "stdout",
          "text": [
            "Skipping element 'hello' - cannot be converted to int\n",
            "Casted to integers: [1, 2.5, '3', 'hello', 4, True]\n",
            "Skipping element 'hello' - cannot be converted to float\n",
            "Casted to floats: [1, 2.5, '3', 'hello', 4, True]\n",
            "Casted to strings: ['1', '2.5', '3', 'hello', '4', 'True']\n"
          ]
        }
      ]
    },
    {
      "cell_type": "markdown",
      "source": [
        "11. Write a program that checks if a number is positive, negative or zero."
      ],
      "metadata": {
        "id": "IQEKhKMST1k9"
      }
    },
    {
      "cell_type": "code",
      "source": [
        "def check_number(number):\n",
        "    if number > 0:\n",
        "        return \"Positive\"\n",
        "    elif number < 0:\n",
        "        return \"Negative\"\n",
        "    else:\n",
        "        return \"Zero\"\n",
        "\n",
        "# Example usage\n",
        "number = 10\n",
        "result = check_number(number)\n",
        "print(f\"{number} is {result}\")\n",
        "\n",
        "number = -5\n",
        "result = check_number(number)\n",
        "print(f\"{number} is {result}\")\n",
        "\n",
        "number = 0\n",
        "result = check_number(number)\n",
        "print(f\"{number} is {result}\")"
      ],
      "metadata": {
        "colab": {
          "base_uri": "https://localhost:8080/"
        },
        "id": "R_1LWNqLU5Zc",
        "outputId": "0f1d985a-f34c-46f5-f6c8-aa2810b32457"
      },
      "execution_count": 10,
      "outputs": [
        {
          "output_type": "stream",
          "name": "stdout",
          "text": [
            "10 is Positive\n",
            "-5 is Negative\n",
            "0 is Zero\n"
          ]
        }
      ]
    },
    {
      "cell_type": "markdown",
      "source": [
        "12. Write a for loop to print numbers from 1 to 10."
      ],
      "metadata": {
        "id": "AYyJeXUuVBv8"
      }
    },
    {
      "cell_type": "code",
      "source": [
        "for i in range(1, 11):\n",
        "  print(i)\n",
        "\n"
      ],
      "metadata": {
        "colab": {
          "base_uri": "https://localhost:8080/"
        },
        "id": "XTUgXVN9VbTK",
        "outputId": "caf4942a-796c-4467-eb33-e15fa9f4d530"
      },
      "execution_count": 21,
      "outputs": [
        {
          "output_type": "stream",
          "name": "stdout",
          "text": [
            "1\n",
            "2\n",
            "3\n",
            "4\n",
            "5\n",
            "6\n",
            "7\n",
            "8\n",
            "9\n",
            "10\n"
          ]
        }
      ]
    },
    {
      "cell_type": "markdown",
      "source": [
        "13. Write a Python to find the sum of all even numbers between 1 and 50."
      ],
      "metadata": {
        "id": "_LTFxFHcWeXD"
      }
    },
    {
      "cell_type": "code",
      "source": [
        "sum_of_evens = 0\n",
        "for i in range(2, 51, 2):\n",
        "  sum_of_evens += i\n",
        "print(f\"The sum of even numbers between 1 and 50 is: {sum_of_evens}\")"
      ],
      "metadata": {
        "colab": {
          "base_uri": "https://localhost:8080/"
        },
        "id": "q4f1kBZ5Wy3V",
        "outputId": "22e19973-f725-4765-edf7-2d6a652e519b"
      },
      "execution_count": 23,
      "outputs": [
        {
          "output_type": "stream",
          "name": "stdout",
          "text": [
            "The sum of even numbers between 1 and 50 is: 650\n"
          ]
        }
      ]
    },
    {
      "cell_type": "markdown",
      "source": [
        "14. Write a program to reverse a string using a while loop."
      ],
      "metadata": {
        "id": "2FbNn0cjXF5u"
      }
    },
    {
      "cell_type": "code",
      "source": [
        "def reverse_string_while(input_string):\n",
        "    reversed_string = \"\"\n",
        "    index = len(input_string) - 1\n",
        "    while index >= 0:\n",
        "        reversed_string += input_string[index]\n",
        "        index -= 1\n",
        "    return reversed_string\n",
        "\n",
        "string_to_reverse = \"hello\"\n",
        "reversed_string = reverse_string_while(string_to_reverse)\n",
        "print(f\"Reversed string: {reversed_string}\")"
      ],
      "metadata": {
        "colab": {
          "base_uri": "https://localhost:8080/"
        },
        "id": "49BAeuKSXxj3",
        "outputId": "07124a91-7de2-444e-91ae-ca48ee1acac5"
      },
      "execution_count": 24,
      "outputs": [
        {
          "output_type": "stream",
          "name": "stdout",
          "text": [
            "Reversed string: olleh\n"
          ]
        }
      ]
    },
    {
      "cell_type": "markdown",
      "source": [
        "15. Write a Python program to calculate the factorial of a number provided by the user using a while loop."
      ],
      "metadata": {
        "id": "pEGHKLD9YDBz"
      }
    },
    {
      "cell_type": "code",
      "source": [
        "def factorial_while(n):\n",
        "    if n < 0:\n",
        "        return \"Factorial is not defined for negative numbers\"\n",
        "    elif n == 0:\n",
        "        return 1\n",
        "    else:\n",
        "        fact = 1\n",
        "        i = 1\n",
        "        while i <= n:\n",
        "            fact *= i\n",
        "            i += 1\n",
        "        return fact\n",
        "\n",
        "try:\n",
        "    num = int(input(\"Enter a non-negative integer: \"))\n",
        "    result = factorial_while(num)\n",
        "    print(f\"The factorial of {num} is {result}\")\n",
        "except ValueError:\n",
        "    print(\"Invalid input. Please enter an integer.\")"
      ],
      "metadata": {
        "colab": {
          "base_uri": "https://localhost:8080/"
        },
        "id": "mm_zrtgAZK8B",
        "outputId": "ff74e370-fc84-4f9a-84f3-d70dd0954a6a"
      },
      "execution_count": 25,
      "outputs": [
        {
          "output_type": "stream",
          "name": "stdout",
          "text": [
            "Enter a non-negative integer: 570\n",
            "The factorial of 570 is 119647575826679992521315097160611198503056621900768339948400991237661587270341810389478213353453090699254154454320719614548750911862634908696686820305004379306247797103488679043421383221324594841498332690282044085187027223617659230951842809494597921494056709685270263887874435753547709167084262926620333274138770514841146227123095175757304448772093194373279490301207089965787664857512756672451357571548270270788565544870146828024429021833502813292623326287501458026916111957736739218806812528254920234801893594111768456673065490279986528074506746792875128696146786203445059933650868372915763262368712749711136718818742496831196746909912133660990822097617434066349471522249726333088551395582908614722045459821787316263806805289352977171927611915931808505004008935038815697112288240308956585984001982246521831141914783214774003130942944407137531510505316475042841159819848160593032726584717409062104550132570000786056025198960810471834796873564247543983373049782988651222694742053310200491418863588405480343023964791498461218898945580264840611330380715000158195326376171856131568002138450168036268440168979166079893774258519311891845963565722703706788257300598498708086057505863175975731200000000000000000000000000000000000000000000000000000000000000000000000000000000000000000000000000000000000000000000000000000000000000000000\n"
          ]
        }
      ]
    }
  ]
}